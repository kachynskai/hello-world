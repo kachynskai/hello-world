{
 "nbformat": 4,
 "nbformat_minor": 0,
 "metadata": {
  "colab": {
   "provenance": []
  },
  "kernelspec": {
   "name": "python3",
   "language": "python",
   "display_name": "Python 3 (ipykernel)"
  },
  "language_info": {
   "name": "python"
  }
 },
 "cells": [
  {
   "cell_type": "markdown",
   "source": [
    "# I. Functions. Arguments."
   ],
   "metadata": {
    "id": "kXpppdVm6wFy"
   }
  },
  {
   "cell_type": "markdown",
   "source": [
    "1. (5б) Назвіть основні 4 смислові частини, з яких складається функція."
   ],
   "metadata": {
    "id": "u_krJdlbAkVz"
   }
  },
  {
   "cell_type": "markdown",
   "source": [
    "1) Назва\n",
    "2) Аргументи функції (або параметри) - є двох типів, обовʼязкові та необов'язкові, тобто, ті, значення яких не обовʼязково вказувати при виклику функції, вони є визначення за замовчуванням.\n",
    "3) Тіло функції\n",
    "4) Те, що повертає функція (може бути відсутньо, тоді по дефолту повертається None)"
   ],
   "metadata": {
    "id": "KKTrTXmHAptb"
   }
  },
  {
   "cell_type": "markdown",
   "source": [
    "2. (3б) Визначте функцію, що приймає 2 аргументи та повертає результат ділення 1го аргумента на інший."
   ],
   "metadata": {
    "id": "ORM4PqJQAtDM"
   }
  },
  {
   "cell_type": "code",
   "execution_count": 5,
   "metadata": {
    "id": "EuDx-z8M6sLo",
    "ExecuteTime": {
     "end_time": "2024-02-19T22:54:16.169889Z",
     "start_time": "2024-02-19T22:54:16.160585Z"
    }
   },
   "outputs": [],
   "source": [
    "\n",
    "\n",
    "def division(divisible, divisor):\n",
    "    result = divisible / divisor\n",
    "    return result\n"
   ]
  },
  {
   "cell_type": "markdown",
   "source": [
    "3. (2б) Викличте вище визначену функцію, де другий аргумент дорівнює 0."
   ],
   "metadata": {
    "id": "5joQGQ-SAyMe"
   }
  },
  {
   "cell_type": "code",
   "source": [
    "division(3, 0)"
   ],
   "metadata": {
    "id": "V5cBV1LOA3d-",
    "ExecuteTime": {
     "end_time": "2024-02-19T22:54:51.353899Z",
     "start_time": "2024-02-19T22:54:51.341056Z"
    }
   },
   "execution_count": 7,
   "outputs": [
    {
     "ename": "ZeroDivisionError",
     "evalue": "division by zero",
     "output_type": "error",
     "traceback": [
      "\u001B[0;31m---------------------------------------------------------------------------\u001B[0m",
      "\u001B[0;31mZeroDivisionError\u001B[0m                         Traceback (most recent call last)",
      "Cell \u001B[0;32mIn[7], line 1\u001B[0m\n\u001B[0;32m----> 1\u001B[0m \u001B[43mdivision\u001B[49m\u001B[43m(\u001B[49m\u001B[38;5;241;43m3\u001B[39;49m\u001B[43m,\u001B[49m\u001B[43m \u001B[49m\u001B[38;5;241;43m0\u001B[39;49m\u001B[43m)\u001B[49m\n",
      "Cell \u001B[0;32mIn[5], line 2\u001B[0m, in \u001B[0;36mdivision\u001B[0;34m(divisible, divisor)\u001B[0m\n\u001B[1;32m      1\u001B[0m \u001B[38;5;28;01mdef\u001B[39;00m \u001B[38;5;21mdivision\u001B[39m(divisible, divisor):\n\u001B[0;32m----> 2\u001B[0m     result \u001B[38;5;241m=\u001B[39m \u001B[43mdivisible\u001B[49m\u001B[43m \u001B[49m\u001B[38;5;241;43m/\u001B[39;49m\u001B[43m \u001B[49m\u001B[43mdivisor\u001B[49m\n\u001B[1;32m      3\u001B[0m     \u001B[38;5;28;01mreturn\u001B[39;00m result\n",
      "\u001B[0;31mZeroDivisionError\u001B[0m: division by zero"
     ]
    }
   ]
  },
  {
   "cell_type": "markdown",
   "source": [
    "4. (4б) Перевизначте функцію так, щоби у випадку ділення на 0 функція повертала None, а в решті випадків - результат розрахунків."
   ],
   "metadata": {
    "id": "QyimWgW8A43-"
   }
  },
  {
   "cell_type": "code",
   "source": [
    "def division(divisible, divisor):\n",
    "    if divisor != 0:\n",
    "        result = divisible / divisor\n",
    "        return result\n",
    "    return None\n",
    "\n",
    "\n",
    "print(division(3, 0))"
   ],
   "metadata": {
    "id": "7VIODtSjA8Ek",
    "ExecuteTime": {
     "end_time": "2024-02-19T22:56:03.948179Z",
     "start_time": "2024-02-19T22:56:03.946304Z"
    }
   },
   "execution_count": 11,
   "outputs": [
    {
     "name": "stdout",
     "output_type": "stream",
     "text": [
      "None\n"
     ]
    }
   ]
  },
  {
   "cell_type": "markdown",
   "source": [
    "5. (5б) Визначте функцію, що віднімає одне число від іншого (підказка: це буде 2 аргументи функції). При чому, якщо не визначити, скільки саме має бути віднято від числа, за замовчуванням має відніматися 1. Викличте функцію, передаючи тільки один аргумент."
   ],
   "metadata": {
    "id": "Y8mN0GfkA81l"
   }
  },
  {
   "cell_type": "code",
   "source": [
    "def subtraction(decreasing, denominator=1):\n",
    "    result_sub = decreasing - denominator\n",
    "    return result_sub\n",
    "\n",
    "\n",
    "print(subtraction(3, 4))\n",
    "print(subtraction(3))"
   ],
   "metadata": {
    "id": "vg1kxkdgBA50",
    "ExecuteTime": {
     "end_time": "2024-02-23T10:00:57.755923Z",
     "start_time": "2024-02-23T10:00:57.737211Z"
    }
   },
   "execution_count": 12,
   "outputs": [
    {
     "name": "stdout",
     "output_type": "stream",
     "text": [
      "-1\n",
      "2\n"
     ]
    }
   ]
  },
  {
   "cell_type": "markdown",
   "source": [
    "6. (7б) Визначте функцію, яка приймає iterable (ітерабельний обʼєкт, напр. список), що складається з 7ми рядкових значень - назв погодних умов (напр. \"sunny\") за кожен день у тижні. Повертає функція словник, де ключами є рядки з погодними умовами, а значеннями - кількість разів, скільки дана погода була протягом тижня (напр. {'sunny': 1, ...}). Викличте цю функцію та виведіть результат її роботи на екран."
   ],
   "metadata": {
    "id": "D3mwQGNOBBs4"
   }
  },
  {
   "cell_type": "code",
   "source": [
    "weather_options = [\"sunny\", \"cloudy\", \"rainy\", \"foggy\", \"cloudy\", \"cloudy\", \"foggy\"]\n",
    "\n",
    "\n",
    "def weather_count(weather_option):\n",
    "    weather_dict = {}\n",
    "    for option in weather_option:\n",
    "        if option in weather_dict:\n",
    "            weather_dict[option] += 1\n",
    "        else:\n",
    "            weather_dict[option] = 1\n",
    "    return weather_dict\n",
    "\n",
    "\n",
    "print(weather_count(weather_options))"
   ],
   "metadata": {
    "id": "OsWm-hKcBFyn",
    "ExecuteTime": {
     "end_time": "2024-02-19T23:16:44.733598Z",
     "start_time": "2024-02-19T23:16:44.728627Z"
    }
   },
   "execution_count": 13,
   "outputs": [
    {
     "name": "stdout",
     "output_type": "stream",
     "text": [
      "{'sunny': 1, 'cloudy': 3, 'rainy': 1, 'foggy': 2}\n"
     ]
    }
   ]
  },
  {
   "cell_type": "markdown",
   "source": [
    "7. (15б) Напишіть програму, яка б шукала необхідне число у впорядкованому списку цілочислених значень, де\n",
    "число має вводитись з консолі.\n",
    "власне алгоритм пошуку винесений в окрему функцію, яка повертає булеве значення (знайдено число - True, не знайдено - False).\n",
    "в залежності від результату функції, виведіть на екран повідомлення про успішний або ж неуспішний пошук.\n",
    "Зауваження: використовувати оператор in заборонено."
   ],
   "metadata": {
    "id": "RMiCcdOsBKQT"
   }
  },
  {
   "cell_type": "code",
   "source": [
    "num_list = [-3, -1, 1, 2, 5, 9, 10, 12, 15, 19]"
   ],
   "metadata": {
    "id": "UNCZg65OBOy-",
    "ExecuteTime": {
     "end_time": "2024-02-20T12:13:19.849614Z",
     "start_time": "2024-02-20T12:13:19.848211Z"
    }
   },
   "execution_count": 14,
   "outputs": []
  },
  {
   "cell_type": "code",
   "outputs": [],
   "source": [
    "def find_num_bool(number, number_list):\n",
    "    start = 0\n",
    "    finish = len(number_list) - 1\n",
    "    while start <= finish:\n",
    "        mid = (start + finish) // 2\n",
    "        if number_list[mid] == number:\n",
    "            return True\n",
    "        elif number_list[mid] > number:\n",
    "            finish = mid - 1\n",
    "        else:\n",
    "            start = mid + 1\n",
    "    return False"
   ],
   "metadata": {
    "collapsed": false,
    "ExecuteTime": {
     "end_time": "2024-02-20T12:13:22.227663Z",
     "start_time": "2024-02-20T12:13:22.220625Z"
    }
   },
   "execution_count": 15
  },
  {
   "cell_type": "code",
   "outputs": [],
   "source": [
    "def find_num(list_of_numbers):\n",
    "    input_data = int(input(\"Enter number \"))\n",
    "    if find_num_bool(input_data, list_of_numbers):\n",
    "        print(f\"The number {input_data} is in list of numbers\")\n",
    "    else:\n",
    "        print(f\"The number {input_data} is not included in the list\")"
   ],
   "metadata": {
    "collapsed": false,
    "ExecuteTime": {
     "end_time": "2024-02-20T12:13:24.288752Z",
     "start_time": "2024-02-20T12:13:24.286302Z"
    }
   },
   "execution_count": 16
  },
  {
   "cell_type": "code",
   "outputs": [
    {
     "name": "stdout",
     "output_type": "stream",
     "text": [
      "The number -4 is not included in the list\n"
     ]
    }
   ],
   "source": [
    "find_num(num_list)"
   ],
   "metadata": {
    "collapsed": false,
    "ExecuteTime": {
     "end_time": "2024-02-20T12:14:27.595850Z",
     "start_time": "2024-02-20T12:14:24.036647Z"
    }
   },
   "execution_count": 22
  },
  {
   "cell_type": "markdown",
   "source": [
    "# II. Lambda functions."
   ],
   "metadata": {
    "id": "Ae1n_OvLBTsy"
   }
  },
  {
   "cell_type": "markdown",
   "source": [
    "8. (4б) В яких випадках варто використовувати лямбда-функції?"
   ],
   "metadata": {
    "id": "xaD_wSlaCWen"
   }
  },
  {
   "cell_type": "markdown",
   "source": [
    "Оскільки лямбда функцію ще називають анонімними, ми використовуємо їх для того аби визначити однорядкові функції без імені(ми не зможемо їх надалі використовувати в нашій програмі), тобто ми використовуємо їх, коли нам на ходу потрібно змінювати якісь дані при цьому не присвоюючи імені функції і не визначаючи її через def. Також ми часто ми передаємо лямбда-функції як параметр у функцію типу map(), filter(), reduce()."
   ],
   "metadata": {
    "id": "42MB6OoLCakR"
   }
  },
  {
   "cell_type": "markdown",
   "source": [
    "9. (9б) Визначте список з рядками. Після цього визначте анонімну функцію для отримання першого символу у верхньому регістрі для кожного рядка списку.\n",
    "Підказка: використовуйте анонімну функцію в якості агрумента до вбудованої ф-ції, яка створена для застосування функцій над iterable обʼєктами. Результат виведіть на екран у вигляді кортежу."
   ],
   "metadata": {
    "id": "USrzrk7GCedk"
   }
  },
  {
   "cell_type": "code",
   "source": [
    "some_strings = [\"java\", \"python\", \"javascript\", \"cpp\", \"swift\"]\n",
    "changed_strings = tuple(map(lambda item: item[0].upper(), some_strings))\n",
    "print(changed_strings)\n",
    "isinstance(changed_strings, tuple)"
   ],
   "metadata": {
    "id": "M8QWUsMlCjWH",
    "ExecuteTime": {
     "end_time": "2024-02-23T07:49:17.930791Z",
     "start_time": "2024-02-23T07:49:17.924891Z"
    }
   },
   "execution_count": 4,
   "outputs": [
    {
     "name": "stdout",
     "output_type": "stream",
     "text": [
      "('J', 'P', 'J', 'C', 'S')\n"
     ]
    },
    {
     "data": {
      "text/plain": "True"
     },
     "execution_count": 4,
     "metadata": {},
     "output_type": "execute_result"
    }
   ]
  },
  {
   "cell_type": "markdown",
   "source": [
    "10. (10б) Визначте список з числовими значеннями (і цілими, і з рухомою комою). а) Відфільтруйте всі числа, які діляться націло на 3 за допомогою вбудованої функції та анонімної функції в якості аргумента). Збережіть результат у змінній, не приводяти явно до будь-якого типу. б) Використовуючи результат на кроці 12.а у якості аргументу, та за допомогою лямбда-функції в якості іншого аргументу до вбудованої функції, додайте до кожного елементу число 1 та опісля зведіть у квадрат. Остаточний результат приведіть явно до списку та виведіть на екран."
   ],
   "metadata": {
    "id": "9fyUhXOoCtGp"
   }
  },
  {
   "cell_type": "code",
   "source": [
    "some_list_of_numbers = [1, 3, 5, 3.4, 7.8, 12, 9, 6.3, 15]\n",
    "changed_number = filter(lambda item: item % 3 == 0, some_list_of_numbers)\n",
    "result_of_changing_numbers = list(map(lambda num: (num + 1) ** 2, changed_number))\n",
    "print(result_of_changing_numbers)"
   ],
   "metadata": {
    "id": "exEx2_okCsql",
    "ExecuteTime": {
     "end_time": "2024-02-23T08:40:05.924775Z",
     "start_time": "2024-02-23T08:40:05.919584Z"
    }
   },
   "execution_count": 6,
   "outputs": [
    {
     "name": "stdout",
     "output_type": "stream",
     "text": [
      "[16, 169, 100, 256]\n"
     ]
    }
   ]
  },
  {
   "cell_type": "markdown",
   "source": [
    "# III. Decorators."
   ],
   "metadata": {
    "id": "o_x8cG_WC7jp"
   }
  },
  {
   "cell_type": "markdown",
   "source": [
    "11. (11б) Визначте декоратор, який би виводив у консоль повідомлення про початок роботи і назву функції (напр. my_function._ _ name _ _), а після відпрацювання функції - повідомлення про закінчення роботи і назву функції, що задекорована."
   ],
   "metadata": {
    "id": "mhxS4-mfC8LQ"
   }
  },
  {
   "cell_type": "code",
   "source": [
    "def my_decorator(my_func):\n",
    "    def wrapper(*args, **kwargs):\n",
    "        print(f\"Function {my_func.__name__} starts working\")\n",
    "        result_dec = my_func(*args, **kwargs)\n",
    "        print(f\"Function {my_func.__name__} finish working\")\n",
    "        return result_dec\n",
    "\n",
    "    return wrapper"
   ],
   "metadata": {
    "id": "srd1ygWjDGhO",
    "ExecuteTime": {
     "end_time": "2024-02-23T09:58:31.410257Z",
     "start_time": "2024-02-23T09:58:31.409328Z"
    }
   },
   "execution_count": 10,
   "outputs": []
  },
  {
   "cell_type": "markdown",
   "source": [
    "12. (4б) Задекоруйте двома різними способами функції з завдання 4 та 5 декоратором із завдання 11. (**УВАГА**: не декоруйте функції двічі!)."
   ],
   "metadata": {
    "id": "rxGZwVBiDph3"
   }
  },
  {
   "cell_type": "code",
   "source": [
    "@my_decorator\n",
    "def division(divisible, divisor):\n",
    "    if divisor != 0:\n",
    "        result_div = divisible / divisor\n",
    "        return result_div\n",
    "    return None"
   ],
   "metadata": {
    "id": "06lj7eq_DwZe",
    "ExecuteTime": {
     "end_time": "2024-02-23T13:15:44.428567Z",
     "start_time": "2024-02-23T13:15:44.425620Z"
    }
   },
   "execution_count": 15,
   "outputs": []
  },
  {
   "cell_type": "code",
   "outputs": [],
   "source": [
    "subtraction = my_decorator(subtraction)"
   ],
   "metadata": {
    "collapsed": false,
    "ExecuteTime": {
     "end_time": "2024-02-23T10:01:36.943630Z",
     "start_time": "2024-02-23T10:01:36.936779Z"
    }
   },
   "execution_count": 13
  },
  {
   "cell_type": "markdown",
   "source": [
    "13. (2б) Викличте одну з задекорованих функцій і виведіть її результат на екран."
   ],
   "metadata": {
    "id": "P0ep1urBDzf-"
   }
  },
  {
   "cell_type": "code",
   "source": [
    "print(subtraction(3, 5))"
   ],
   "metadata": {
    "id": "1QvTw0ctD0S3",
    "ExecuteTime": {
     "end_time": "2024-02-23T10:02:06.563487Z",
     "start_time": "2024-02-23T10:02:06.560237Z"
    }
   },
   "execution_count": 14,
   "outputs": [
    {
     "name": "stdout",
     "output_type": "stream",
     "text": [
      "Function subtraction starts working\n",
      "Function subtraction finish working\n",
      "-2\n"
     ]
    }
   ]
  },
  {
   "cell_type": "markdown",
   "source": [
    "# IV. Recursion."
   ],
   "metadata": {
    "id": "poECCpuoD2S9"
   }
  },
  {
   "cell_type": "markdown",
   "source": [
    "14. (4б) Назвіть дві частини функції, які є обовʼязковими для того, щоб називати її рекурсивною."
   ],
   "metadata": {
    "id": "DqkURfdsD7MY"
   }
  },
  {
   "cell_type": "markdown",
   "source": [
    "Рекурсивна функція повинна мати базову умову виходу з циклу (якщо цієї умови виходу не буде, то ми отримаємо вічний цикл і рано чи пізно ми отримаємо переповнення стеку і наша програма аварійно припинить свою роботу). Другий пункт, який обовʼязково має мати рекурсивна функція це, власне, рекурсивний виклик, це коли функція в своєму тілі викликає саму себе, тільки з іншими параметрами, і завдяки цьому ми повторюємо функцію, наближаючись до базового випадку."
   ],
   "metadata": {
    "id": "HYW6ttIeIQIU"
   }
  },
  {
   "cell_type": "markdown",
   "source": [
    "15. (15б) Визначте функцію, яка рекурсивно реалізовує пошук числа у послідовності Фібоначчі за її індексом (нумерація починається з нуля). Наприклад, потрібно знайти перше число у послідовності, тоді функція прийматиме 0 у якості аргумента і повертатиме 1, якщо ж знаходити третє число (індекс 2) послідовності, то функція повертатиме 2, якщо ж знаходити десяте число (індекс 9), то функція повертатиме 55."
   ],
   "metadata": {
    "id": "WYVt20UmEA35"
   }
  },
  {
   "cell_type": "code",
   "source": [
    "def find_fibonacci(number):\n",
    "    if (number == 0 or number == 1):\n",
    "        return 1\n",
    "    return find_fibonacci(number - 1) + find_fibonacci(number - 2)\n"
   ],
   "metadata": {
    "id": "xIMhp05AIpV_",
    "ExecuteTime": {
     "end_time": "2024-02-23T09:26:00.886297Z",
     "start_time": "2024-02-23T09:26:00.882455Z"
    }
   },
   "execution_count": 8,
   "outputs": []
  },
  {
   "cell_type": "code",
   "outputs": [
    {
     "name": "stdout",
     "output_type": "stream",
     "text": [
      "1\n",
      "1\n",
      "3\n",
      "55\n"
     ]
    }
   ],
   "source": [
    "print(find_fibonacci(0))\n",
    "print(find_fibonacci(1))\n",
    "print(find_fibonacci(3))\n",
    "print(find_fibonacci(9))"
   ],
   "metadata": {
    "collapsed": false,
    "ExecuteTime": {
     "end_time": "2024-02-23T09:26:02.611681Z",
     "start_time": "2024-02-23T09:26:02.609210Z"
    }
   },
   "execution_count": 9
  },
  {
   "cell_type": "markdown",
   "source": [
    "# Вітаю! Ви велика(ий) молодець, що впоралась(вся). Похваліть себе та побалуйте чимось приємним. Я Вами пишаюся."
   ],
   "metadata": {
    "id": "ytXC8n_4Ip0W"
   }
  }
 ]
}
