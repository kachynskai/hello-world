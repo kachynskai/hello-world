{
  "nbformat": 4,
  "nbformat_minor": 0,
  "metadata": {
    "colab": {
      "provenance": []
    },
    "kernelspec": {
      "name": "python3",
      "language": "python",
      "display_name": "Python 3 (ipykernel)"
    },
    "language_info": {
      "name": "python"
    }
  },
  "cells": [
    {
      "cell_type": "markdown",
      "source": [
        "# I. Оператори порівняння та логічні оператори. Умови."
      ],
      "metadata": {
        "id": "qDEi2Pi-4yUC"
      }
    },
    {
      "cell_type": "markdown",
      "source": [
        "1. Створіть цілочисленну змінну зі своїм щасливим або улюбленим числом. Напишіть код, який би автоматизовував наступну задачу.\n",
        "\n",
        "Якщо число парне, помножте його на 2 та виведіть результат на екран.\n",
        "\n",
        "Але якщо число непарне, помножте його на 3 та додайте 1 і виведіть на екран."
      ],
      "metadata": {
        "id": "3v8D4Dkm43Ua"
      }
    },
    {
      "cell_type": "code",
      "execution_count": 1,
      "metadata": {
        "id": "dlVjc-Nu4bmb",
        "colab": {
          "base_uri": "https://localhost:8080/"
        },
        "outputId": "887122f7-6c26-43bb-e57d-bf994a3ab2cb",
        "ExecuteTime": {
          "end_time": "2024-02-13T17:02:38.974852Z",
          "start_time": "2024-02-13T17:02:38.958564Z"
        }
      },
      "outputs": [
        {
          "output_type": "execute_result",
          "data": {
            "text/plain": [
              "36"
            ]
          },
          "metadata": {},
          "execution_count": 1
        }
      ],
      "source": [
        "import random\n",
        "\n",
        "my_fav = 18\n",
        "if my_fav % 2 == 0:\n",
        "    result = my_fav * 2\n",
        "else:\n",
        "    result = my_fav * 3 + 1\n",
        "\n",
        "result"
      ]
    },
    {
      "cell_type": "markdown",
      "source": [
        "2. Створіть змінну, що посилається на список. Якщо список пустий, додайте будь-який елемент у кінець списку. Якщо ж ні, то нічого не робіть."
      ],
      "metadata": {
        "id": "H669P0QK5BI_"
      }
    },
    {
      "cell_type": "code",
      "source": [
        "my_list = [1, 2]\n",
        "if my_list:\n",
        "    my_list.append(1)\n",
        "my_list"
      ],
      "metadata": {
        "id": "ecWlfra45f6E",
        "colab": {
          "base_uri": "https://localhost:8080/"
        },
        "outputId": "68c21fc5-c58d-4d77-81fe-75f0888dca12",
        "ExecuteTime": {
          "end_time": "2024-02-13T17:02:47.825273Z",
          "start_time": "2024-02-13T17:02:47.818136Z"
        }
      },
      "execution_count": 2,
      "outputs": [
        {
          "output_type": "execute_result",
          "data": {
            "text/plain": [
              "[1, 2, 1]"
            ]
          },
          "metadata": {},
          "execution_count": 2
        }
      ]
    },
    {
      "cell_type": "markdown",
      "source": [
        "3. Створіть рядок зі своїм імʼям латинкою. Напишіть код, який би автоматизовував наступну задачу.\n",
        "\n",
        "Якщо в імені є літера \"а\"\n",
        " або \"i\", Виведіть на екран повідомлення \"A or I is in the name\".\n",
        "\n",
        "\n",
        "\n",
        "Якщо в імені є літери \"o\" та \"n\", Виведіть на екран повідомлення \"O and N is in the name\".\n",
        "\n",
        "Також якщо в імені немає літери \"о\", але є \"n\", Виведіть на екран повідомлення \"Only N is in the name\".\n",
        "\n",
        "В решті випадків виведіть на екран повідомлення \"There is no N in the name, but there might be O\".\n",
        "\n",
        "Зверніть увагу, що, наприклад, для імені \"Antonina\" буде виведено два повідомлення."
      ],
      "metadata": {
        "id": "h9Y3cMUd5h85"
      }
    },
    {
      "cell_type": "code",
      "source": [
        "my_name = 'Iryna'\n",
        "if ('i' in my_name.lower()) or ('a' in my_name.lower()):\n",
        "    print(\"A or I is in the name\")\n",
        "if ('o' in my_name.lower()) and ('n' in my_name.lower()):\n",
        "    print(\"O and N is in the name\")\n",
        "elif ('n' in my_name.lower()) and ('o' not in my_name.lower()):\n",
        "    print(\"Only N is in the name\")\n",
        "else:\n",
        "    print(\"There is no N in the name, but there might be 0\")\n"
      ],
      "metadata": {
        "id": "bUH4LUx35u52",
        "ExecuteTime": {
          "end_time": "2024-02-12T23:36:41.456270Z",
          "start_time": "2024-02-12T23:36:41.453207Z"
        },
        "colab": {
          "base_uri": "https://localhost:8080/"
        },
        "outputId": "45452da7-82fe-4f5d-e2b0-5eca46402940"
      },
      "execution_count": 3,
      "outputs": [
        {
          "output_type": "stream",
          "name": "stdout",
          "text": [
            "A or I is in the name\n",
            "Only N is in the name\n"
          ]
        }
      ]
    },
    {
      "cell_type": "markdown",
      "source": [
        "# II. Comprehensions."
      ],
      "metadata": {
        "id": "wPCXJv4354cU"
      }
    },
    {
      "cell_type": "markdown",
      "source": [
        "4. Створіть список, використовуючи if (не if-else), range та comprehension."
      ],
      "metadata": {
        "id": "jULLW5jN55Pw"
      }
    },
    {
      "cell_type": "code",
      "source": [
        "my_list = [i for i in range(10) if i % 2 == 1]\n",
        "my_list"
      ],
      "metadata": {
        "id": "mlZalnVC6W3F",
        "ExecuteTime": {
          "end_time": "2024-02-13T17:03:53.078613Z",
          "start_time": "2024-02-13T17:03:53.076137Z"
        },
        "colab": {
          "base_uri": "https://localhost:8080/"
        },
        "outputId": "5a0b26bd-4ec0-4552-a490-b6d621308e61"
      },
      "execution_count": 5,
      "outputs": [
        {
          "output_type": "execute_result",
          "data": {
            "text/plain": [
              "[1, 3, 5, 7, 9]"
            ]
          },
          "metadata": {},
          "execution_count": 5
        }
      ]
    },
    {
      "cell_type": "markdown",
      "source": [
        "5. Створіть словник, використовуючи dict comprehension, що містить if else. Коли слід використовувати comprehensions, а коли їх слід уникати?"
      ],
      "metadata": {
        "id": "LqhEQ4JW6XcC"
      }
    },
    {
      "cell_type": "code",
      "source": [
        "my_dict = {num: num + 1 if (num % 2 == 0) else num * 2 for num in range(1, 15, 3)}\n",
        "my_dict"
      ],
      "metadata": {
        "id": "1yVaFbOs6hta",
        "ExecuteTime": {
          "end_time": "2024-02-13T17:03:57.701640Z",
          "start_time": "2024-02-13T17:03:57.692295Z"
        },
        "colab": {
          "base_uri": "https://localhost:8080/"
        },
        "outputId": "4d621d66-5014-4d18-f061-58614b52ba2c"
      },
      "execution_count": 6,
      "outputs": [
        {
          "output_type": "execute_result",
          "data": {
            "text/plain": [
              "{1: 2, 4: 5, 7: 14, 10: 11, 13: 26}"
            ]
          },
          "metadata": {},
          "execution_count": 6
        }
      ]
    },
    {
      "cell_type": "markdown",
      "source": [
        "Ми використовуємо comprehension, коли ми хочемо створити колекцію по типу списку або словника, написавши при цьому менше коду, ніж потрібно в звичайному варіанті і підвищивши читабельність коду. Також ми можемо за допомогою comprehensions генерувати колекції з невеликими умовами для елементів колекції, що також покращує читабельність коду, проте якщо умови є досить великими і нам потрібно використати значну кількість перевірок, тоді ми можемо лише ускладнити розуміння коду, тому в такому разі comprehensions використовувати не бажано"
      ],
      "metadata": {
        "id": "wbkzNhKq6hzz"
      }
    },
    {
      "cell_type": "markdown",
      "source": [
        "6. Створіть список з рядками та запишіть його у змінну. Створіть ще один список на основі попереднього, де кожен рядок буде містити тільки три перших заглавних символи. Наприклад: ['hello', 'i', 'dont', 'care'] -> ['HEL', 'I', 'DON', 'CAR']. Використання comprehensions обовʼязкове."
      ],
      "metadata": {
        "id": "ZlqB8G3G6lHP"
      }
    },
    {
      "cell_type": "code",
      "source": [
        "lang_list = ['python', 'java', 'cpp', 'js', 'ruby', 'swift', 'haskell', 'k']\n",
        "modify_lang_list = [item.upper() if (len(item) <= 3) else item[0:3].upper() for item in lang_list]\n",
        "print(modify_lang_list)\n"
      ],
      "metadata": {
        "id": "nw6rz0bR60VC",
        "ExecuteTime": {
          "end_time": "2024-02-13T17:04:14.039982Z",
          "start_time": "2024-02-13T17:04:14.020337Z"
        },
        "colab": {
          "base_uri": "https://localhost:8080/"
        },
        "outputId": "e4650971-582e-4d29-aa7c-30354412e861"
      },
      "execution_count": 7,
      "outputs": [
        {
          "output_type": "stream",
          "name": "stdout",
          "text": [
            "['PYT', 'JAV', 'CPP', 'JS', 'RUB', 'SWI', 'HAS', 'K']\n"
          ]
        }
      ]
    },
    {
      "cell_type": "markdown",
      "source": [
        "# III. Цикли."
      ],
      "metadata": {
        "id": "Tj573IAH64Fz"
      }
    },
    {
      "cell_type": "markdown",
      "source": [
        "7. Продемонструйте роботу циклу while. Не можна використовувати True для запуску циклу, щоб уникнути безкінечного циклу!"
      ],
      "metadata": {
        "id": "tN_33xdE65H5"
      }
    },
    {
      "cell_type": "code",
      "source": [
        "some_value = 3\n",
        "while some_value ** 2 < 256:\n",
        "    print(some_value)\n",
        "    some_value += 2"
      ],
      "metadata": {
        "id": "Kd9FO6yG63P5",
        "ExecuteTime": {
          "end_time": "2024-02-12T23:36:29.797520Z",
          "start_time": "2024-02-12T23:36:29.793236Z"
        },
        "colab": {
          "base_uri": "https://localhost:8080/"
        },
        "outputId": "461641bf-2264-4178-afe8-16e4e7bd12f6"
      },
      "execution_count": 8,
      "outputs": [
        {
          "output_type": "stream",
          "name": "stdout",
          "text": [
            "3\n",
            "5\n",
            "7\n",
            "9\n",
            "11\n",
            "13\n",
            "15\n"
          ]
        }
      ]
    },
    {
      "cell_type": "markdown",
      "source": [
        "8. Напишіть програму, яка виведе на екран непарні числа в діапазоні від 0 до 20 включно."
      ],
      "metadata": {
        "id": "x2CmfZO-7pW0"
      }
    },
    {
      "cell_type": "code",
      "source": [
        "for count in range(0, 21):\n",
        "    if count % 2 == 1:\n",
        "        print(count)"
      ],
      "metadata": {
        "id": "aCSRYA6s7tkF",
        "ExecuteTime": {
          "end_time": "2024-02-12T23:36:27.234738Z",
          "start_time": "2024-02-12T23:36:27.231929Z"
        },
        "colab": {
          "base_uri": "https://localhost:8080/"
        },
        "outputId": "9296ce66-38d3-43b6-a56c-9329dad378b2"
      },
      "execution_count": 9,
      "outputs": [
        {
          "output_type": "stream",
          "name": "stdout",
          "text": [
            "1\n",
            "3\n",
            "5\n",
            "7\n",
            "9\n",
            "11\n",
            "13\n",
            "15\n",
            "17\n",
            "19\n"
          ]
        }
      ]
    },
    {
      "cell_type": "markdown",
      "source": [
        "9. Створіть список з елементами булевого типу або None. Використовуючи цикли, отримайте в результаті список з кортежами, де перший елемент кортежу - індекс(ціле число), а другий елемент - відповідне значення з першого списку.\n",
        "\n",
        "Наприклад, [True, True, None, False] -> [(0, True), (1, True), (2, None), (3, False)]"
      ],
      "metadata": {
        "id": "MDWNocZD7t_B"
      }
    },
    {
      "cell_type": "code",
      "source": [
        "boll_list = [None, True, False, False, True, None, True, False]\n",
        "res_list = [(i, value) for i, value in enumerate(boll_list)]\n",
        "res_list"
      ],
      "metadata": {
        "id": "0EUyjMdp7yfh",
        "ExecuteTime": {
          "end_time": "2024-02-12T23:36:21.356428Z",
          "start_time": "2024-02-12T23:36:21.350263Z"
        },
        "colab": {
          "base_uri": "https://localhost:8080/"
        },
        "outputId": "f858b58f-6043-4815-8dde-0da64f47e311"
      },
      "execution_count": 10,
      "outputs": [
        {
          "output_type": "execute_result",
          "data": {
            "text/plain": [
              "[(0, None),\n",
              " (1, True),\n",
              " (2, False),\n",
              " (3, False),\n",
              " (4, True),\n",
              " (5, None),\n",
              " (6, True),\n",
              " (7, False)]"
            ]
          },
          "metadata": {},
          "execution_count": 10
        }
      ]
    },
    {
      "cell_type": "markdown",
      "source": [
        "10. Створіть словник, де ключі - назви книжок, а значення - їхня кількість у наявності в Вашій міні-бібліотеці. Бібліотека має містити щонайменше 6 книжок (6 пар значень у словнику) і щонайбільше 10 (пар значень). Використовуючи цикли, оновіть словник (не створюйте новий) так, щоби кількість книг у наявності збільшилося на 5 кожної книги. Наприклад,\n",
        "{'It': 3, 'Fault stars': 10, 'Bible': 17, 'Psychological romance': 4, 'Harry Potter': 13} -> {'It': 8, 'Fault stars': 15, 'Bible': 22, 'Psychological romance': 9, 'Harry Potter': 18}"
      ],
      "metadata": {
        "id": "-6XUqlcG7zKs"
      }
    },
    {
      "cell_type": "code",
      "source": [
        "my_lib = {'Harry Potter': 3, 'Intellectuals': 5, 'Principle of the OOP': 2, 'Live meaningfully': 4, 'Black Raven': 6,\n",
        "          'Procrastination': 2, 'Mesopotamia': 1, 'Cult of the dead cow': 14, 'Seneca': 8}\n",
        "for book in my_lib:\n",
        "    my_lib[book] += 5\n",
        "my_lib"
      ],
      "metadata": {
        "id": "Ceoj9wwb791q",
        "ExecuteTime": {
          "end_time": "2024-02-12T23:36:12.959315Z",
          "start_time": "2024-02-12T23:36:12.954598Z"
        },
        "colab": {
          "base_uri": "https://localhost:8080/"
        },
        "outputId": "169983b2-6f8c-46bf-e649-2b63c7b5fd07"
      },
      "execution_count": 11,
      "outputs": [
        {
          "output_type": "execute_result",
          "data": {
            "text/plain": [
              "{'Harry Potter': 8,\n",
              " 'Intellectuals': 10,\n",
              " 'Principle of the OOP': 7,\n",
              " 'Live meaningfully': 9,\n",
              " 'Black Raven': 11,\n",
              " 'Procrastination': 7,\n",
              " 'Mesopotamia': 6,\n",
              " 'Cult of the dead cow': 19,\n",
              " 'Seneca': 13}"
            ]
          },
          "metadata": {},
          "execution_count": 11
        }
      ]
    },
    {
      "cell_type": "markdown",
      "source": [
        "11. Визначте цілочислену змінну n, що належить проміжку від 4 до 10 включно. Використовуючи цикли, виведіть в консоль наступний патерн.\n",
        "\n",
        "#\n",
        "##\n",
        "###\n",
        "####\n",
        "\n",
        "... #*n\n"
      ],
      "metadata": {
        "id": "QLzyJM288AC7"
      }
    },
    {
      "cell_type": "code",
      "source": [
        "n = 7\n",
        "for count in range(n + 1):\n",
        "    print(count * '#')\n",
        "\n"
      ],
      "metadata": {
        "id": "KOpng87s8Duz",
        "ExecuteTime": {
          "end_time": "2024-02-12T23:36:07.261379Z",
          "start_time": "2024-02-12T23:36:07.254606Z"
        },
        "colab": {
          "base_uri": "https://localhost:8080/"
        },
        "outputId": "872faf66-52c8-45a4-c20d-80e93677c8b1"
      },
      "execution_count": 12,
      "outputs": [
        {
          "output_type": "stream",
          "name": "stdout",
          "text": [
            "\n",
            "#\n",
            "##\n",
            "###\n",
            "####\n",
            "#####\n",
            "######\n",
            "#######\n"
          ]
        }
      ]
    },
    {
      "cell_type": "markdown",
      "source": [
        "12. Гра \"Нумо вгадай\".\n",
        "Розробіть просту гру, де користувач має вгадати випадкове число від 1 до 100. Для генерації випадкового числа використовуйте функцію random.randint(a, b) (тут a та b включно). Для отримання числа з консолі використовуйте функцію input(), результат якої обовʼязково явно приведіть до типу int.\n",
        "\n",
        "Підказка: використовуйте цикл while та умови if-else, щоб повідомити користувачу піказки (напр. \"Більше\", \"Менше\") поки користувач не вгадає. По завершенню виведіть кількість спроб, які знадобилися для вгадування."
      ],
      "metadata": {
        "id": "_bd-bqAT8EHn"
      }
    },
    {
      "cell_type": "code",
      "source": [
        "random_num = random.randint(1, 100)\n",
        "count_moves = 0\n",
        "input_data = int(input())\n",
        "while input_data != random_num:\n",
        "    if input_data < random_num:\n",
        "        print('Більше')\n",
        "    else:\n",
        "        print('Менше')\n",
        "    count_moves += 1\n",
        "    print(\"Спробуйте, будь ласка, знову\")\n",
        "    input_data = int(input())\n",
        "print(f'Вітаю, Ви виграли! Загадане число : {random_num}. Перед цим ви помились {count_moves} раз')\n"
      ],
      "metadata": {
        "id": "IK9nnxFK8Hkl",
        "ExecuteTime": {
          "end_time": "2024-02-12T23:35:54.408859Z",
          "start_time": "2024-02-12T23:35:25.894107Z"
        },
        "colab": {
          "base_uri": "https://localhost:8080/"
        },
        "outputId": "8d6f26cd-3e3d-449c-d01a-0bb8ae2c442a"
      },
      "execution_count": 13,
      "outputs": [
        {
          "output_type": "stream",
          "name": "stdout",
          "text": [
            "50\n",
            "Більше\n",
            "Спробуйте, будь ласка, знову\n",
            "75\n",
            "Більше\n",
            "Спробуйте, будь ласка, знову\n",
            "90\n",
            "Менше\n",
            "Спробуйте, будь ласка, знову\n",
            "80\n",
            "Більше\n",
            "Спробуйте, будь ласка, знову\n",
            "85\n",
            "Більше\n",
            "Спробуйте, будь ласка, знову\n",
            "87\n",
            "Більше\n",
            "Спробуйте, будь ласка, знову\n",
            "89\n",
            "Менше\n",
            "Спробуйте, будь ласка, знову\n",
            "88\n",
            "Вітаю, Ви виграли! Загадане число : 88. Перед цим ви помились 7 раз\n"
          ]
        }
      ]
    },
    {
      "cell_type": "markdown",
      "source": [
        "# Вітаю! Ви велика(ий) молодець, що впоралась(вся). Похваліть себе та побалуйте чимось приємним. Я Вами пишаюся."
      ],
      "metadata": {
        "id": "PXoXWb7Z8IGi"
      }
    },
    {
      "cell_type": "code",
      "outputs": [],
      "source": [],
      "metadata": {
        "id": "3Iv3xj6_dHIN"
      },
      "execution_count": null
    }
  ]
}