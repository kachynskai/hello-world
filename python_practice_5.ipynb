{
 "nbformat": 4,
 "nbformat_minor": 0,
 "metadata": {
  "colab": {
   "provenance": []
  },
  "kernelspec": {
   "name": "python3",
   "language": "python",
   "display_name": "Python 3 (ipykernel)"
  },
  "language_info": {
   "name": "python"
  }
 },
 "cells": [
  {
   "cell_type": "markdown",
   "source": [
    "# I. OOP"
   ],
   "metadata": {
    "id": "5qV_sehzFCTp"
   }
  },
  {
   "cell_type": "markdown",
   "source": [
    "1. (6б). Створіть клас Animal, додайте три атрибути, один з яких має значення за замовчуванням та два методи на свій розсуд."
   ],
   "metadata": {
    "id": "tx_U_hOALyfg"
   }
  },
  {
   "cell_type": "code",
   "source": [
    "class Animal:\n",
    "    def __init__(self, name, num_of_legs, area='steppe'):\n",
    "        self.name = name\n",
    "        self.num_of_legs = num_of_legs\n",
    "        self.area = area\n",
    "\n",
    "    def information(self):\n",
    "        print(f\"I am {self.name}, I have {self.num_of_legs} legs and I usually live in {self.area}.\")\n",
    "\n",
    "    def prediction_species(self, num_of_legs):\n",
    "        if num_of_legs < 0:\n",
    "            print(\"Incorrect data input\")\n",
    "        elif (num_of_legs == 8):\n",
    "            print(f\"May be {self.name} has a species 'Spiders'\")\n",
    "        else:\n",
    "            print(f\"{self.name} can be of any species\")"
   ],
   "metadata": {
    "id": "-Vf895KaL88N",
    "ExecuteTime": {
     "end_time": "2024-03-03T20:42:54.588100Z",
     "start_time": "2024-03-03T20:42:54.584374Z"
    }
   },
   "execution_count": 22,
   "outputs": []
  },
  {
   "cell_type": "markdown",
   "source": [
    "2. (2б). Створіть два обʼєкти цього класу, де один з обʼєктів створюється із дефолтним значенням атрибуту. На одному обʼєкті отримайте значення його атрибуту, а на іншому викличте один з його методів."
   ],
   "metadata": {
    "id": "X_UlOMB0L93w"
   }
  },
  {
   "cell_type": "code",
   "source": [
    "dog_animal = Animal(\"Dog\", 4, \"Anywhere\")\n",
    "horse_animal = Animal(\"Horse\", 8)\n",
    "print(f\"I am a {dog_animal.name}\")\n",
    "horse_animal.prediction_species(horse_animal.num_of_legs)"
   ],
   "metadata": {
    "id": "7gBu0ESOMCpG",
    "ExecuteTime": {
     "end_time": "2024-03-03T20:43:34.797770Z",
     "start_time": "2024-03-03T20:43:34.786931Z"
    }
   },
   "execution_count": 23,
   "outputs": [
    {
     "name": "stdout",
     "output_type": "stream",
     "text": [
      "I am a Dog\n",
      "May be Horse has a species 'Spiders'\n"
     ]
    }
   ]
  },
  {
   "cell_type": "markdown",
   "source": [
    "3. (5б). Створіть клас, де атрибути мають різні рівні доступу. Спробуйте отримати їхні значення та опишіть результати."
   ],
   "metadata": {
    "collapsed": false
   }
  },
  {
   "cell_type": "code",
   "outputs": [
    {
     "name": "stdout",
     "output_type": "stream",
     "text": [
      "java\n",
      "1995\n"
     ]
    },
    {
     "ename": "AttributeError",
     "evalue": "'ProgrammingLanguage' object has no attribute 'developer'",
     "output_type": "error",
     "traceback": [
      "\u001B[0;31m---------------------------------------------------------------------------\u001B[0m",
      "\u001B[0;31mAttributeError\u001B[0m                            Traceback (most recent call last)",
      "Cell \u001B[0;32mIn[10], line 11\u001B[0m\n\u001B[1;32m      9\u001B[0m \u001B[38;5;28mprint\u001B[39m(programming_language1\u001B[38;5;241m.\u001B[39mname)\n\u001B[1;32m     10\u001B[0m \u001B[38;5;28mprint\u001B[39m(programming_language1\u001B[38;5;241m.\u001B[39m_year_of_appearance)\n\u001B[0;32m---> 11\u001B[0m \u001B[38;5;28mprint\u001B[39m(\u001B[43mprogramming_language1\u001B[49m\u001B[38;5;241;43m.\u001B[39;49m\u001B[43mdeveloper\u001B[49m)\n",
      "\u001B[0;31mAttributeError\u001B[0m: 'ProgrammingLanguage' object has no attribute 'developer'"
     ]
    }
   ],
   "source": [
    "class ProgrammingLanguage:\n",
    "    def __init__(self, name, year_of_appearance, developer):\n",
    "        self.name = name\n",
    "        self._year_of_appearance = year_of_appearance\n",
    "        self.__developer = developer\n",
    "\n",
    "\n",
    "programming_language1 = ProgrammingLanguage(\"java\", 1995, \"oracle\")\n",
    "print(programming_language1.name)\n",
    "print(programming_language1._year_of_appearance)\n",
    "print(programming_language1.developer)"
   ],
   "metadata": {
    "collapsed": false,
    "ExecuteTime": {
     "end_time": "2024-03-01T11:55:28.155699Z",
     "start_time": "2024-03-01T11:55:28.134402Z"
    }
   },
   "execution_count": 10
  },
  {
   "cell_type": "markdown",
   "source": [
    "Коли ми доступаємось до атрибуту, що має рівень доступу public (name) нам нічого не перешкоджає, коли ж ми пробуємо доступатись до атрибуту _year_of_appearance, що має рівень доступу protected, програма нам видає попередження, бо до нього не радять доступатись поза класом, але все рівно дозволяє доступитись до значення атрибуту, коли ж ми доступаємось до private атрибуту, ми отримуємо помилку, адже програма ховає від нас цей атрибут і ми його не бачимо наче його і не існує."
   ],
   "metadata": {
    "collapsed": false
   }
  },
  {
   "cell_type": "markdown",
   "source": [
    "4. (7б). Як ви розумієте термін self? Для чого використовується метод __init __?"
   ],
   "metadata": {
    "id": "5op2m2vgMSkZ"
   }
  },
  {
   "cell_type": "markdown",
   "source": [
    "Я розумію його як обʼєкт this в с++, тобто це константна відсилка на поточний екземпляр класу над яким ми працюємо (створюємо, видаляємо чи модифікуємо), що стосовно методу __init__, то він виступає конструктором класу і ми використостовуємо його автоматично для створення екземпляра класу та ініціалізації його атрибутів."
   ],
   "metadata": {
    "id": "DyiPqNRvMasx"
   }
  },
  {
   "cell_type": "markdown",
   "source": [
    "5. (9б). Створіть клас Фігура без атрибутів, з методом get_area для отримання площі фігури, що повертає 0 та __add __, який приймає self та other в якості аргументів, а повертає суму площин фігур self та other."
   ],
   "metadata": {
    "id": "-6X8EGfjMd2y"
   }
  },
  {
   "cell_type": "code",
   "source": [
    "import math\n",
    "\n",
    "\n",
    "class Figure:\n",
    "    def get_area(self):\n",
    "        return 0\n",
    "\n",
    "    def __add__(self, other):\n",
    "        return self.get_area() + other.get_area()\n",
    "\n"
   ],
   "metadata": {
    "id": "4rvO_wYUMaEr",
    "ExecuteTime": {
     "end_time": "2024-03-01T12:46:33.856785Z",
     "start_time": "2024-03-01T12:46:33.844459Z"
    }
   },
   "execution_count": 12,
   "outputs": []
  },
  {
   "cell_type": "markdown",
   "source": [
    "6. (11б). Створіть 2 дочірніх класи від Фігури: Трикутник та Коло, які мають атрибути, необхідні для розрахунку площин. Визначте метод get_area в кожному з них так, щоби вони розраховували площу в залежності від формули для кожного типу фігури. Створіть обʼєкт класу Трикутник та обʼєкт класу Коло. Виконайте операцію суми за допомогою оператора + між ними."
   ],
   "metadata": {
    "id": "SFcKnnv5Mo_z"
   }
  },
  {
   "cell_type": "code",
   "source": [
    "class Triangle(Figure):\n",
    "    def __init__(self, side_a, height_a):\n",
    "        self.__side_a = side_a\n",
    "        self.__height_a = height_a\n",
    "    \n",
    "    \n",
    "    def get_area(self):\n",
    "        triangle_area=0.5*self.__side_a*self.__height_a\n",
    "        return triangle_area\n",
    "    \n",
    "class Circle(Figure):\n",
    "    def __init__(self, radius):\n",
    "        self.radius = radius\n",
    "    \n",
    "    \n",
    "    def get_area(self):\n",
    "        circle_area= math.pi * self.radius**2\n",
    "        return circle_area\n",
    "    \n",
    "\n",
    "triangle1 = Triangle(5, 10)\n",
    "circle1 = Circle(5)\n",
    "print(triangle1.get_area())\n",
    "print(circle1.get_area())\n",
    "print(triangle1+circle1)"
   ],
   "metadata": {
    "id": "H3GVNr69Muf3",
    "ExecuteTime": {
     "end_time": "2024-03-01T12:47:09.934135Z",
     "start_time": "2024-03-01T12:47:09.931249Z"
    }
   },
   "execution_count": 15,
   "outputs": [
    {
     "name": "stdout",
     "output_type": "stream",
     "text": [
      "25.0\n",
      "78.53981633974483\n",
      "103.53981633974483\n"
     ]
    }
   ]
  },
  {
   "cell_type": "markdown",
   "source": [
    "7. (3б). Продемонструйте різницю між isinstance та issubclass."
   ],
   "metadata": {
    "id": "HCvR206YMvLK"
   }
  },
  {
   "cell_type": "code",
   "source": [
    "#перевіряємо чи належить трикутник до різних класів\n",
    "print(isinstance(triangle1, Triangle))\n",
    "print(isinstance(triangle1, Figure))\n",
    "print(isinstance(triangle1, Circle))\n",
    "print(isinstance(Triangle,Figure))\n",
    "#перевіряємо чи є трикутник підкласом різних класів\n",
    "print('\\n')\n",
    "print(issubclass(Triangle, Triangle))\n",
    "print(issubclass(Triangle, Figure))\n",
    "print(issubclass(Triangle, Circle))\n",
    "print(issubclass(Figure, Circle))\n"
   ],
   "metadata": {
    "id": "L_V1bBvDM0GN",
    "ExecuteTime": {
     "end_time": "2024-03-03T20:46:57.524294Z",
     "start_time": "2024-03-03T20:46:57.518275Z"
    }
   },
   "execution_count": 26,
   "outputs": [
    {
     "name": "stdout",
     "output_type": "stream",
     "text": [
      "True\n",
      "True\n",
      "False\n",
      "False\n",
      "\n",
      "\n",
      "True\n",
      "True\n",
      "False\n",
      "False\n"
     ]
    }
   ]
  },
  {
   "cell_type": "markdown",
   "source": [
    "isinstance показує чи належить обʼєкт певному класу, чи його підкласу, а issubclass це метод який перевіряє, чи є певний клас (перший аргумент) підкласом іншого або ж тим самим класом"
   ],
   "metadata": {
    "collapsed": false
   }
  },
  {
   "cell_type": "markdown",
   "source": [
    "8. (13б). Створіть клас BankAccount з приватними атрибутами balance та account_number. Реалізуйте методи поповнення та зняття коштів, забезпечивши належну інкапсуляцію. Підказка: використовуйте декоратори property та setter."
   ],
   "metadata": {
    "id": "jjsaBZ-iM0Qq"
   }
  },
  {
   "cell_type": "code",
   "source": [
    "class BankAccount:\n",
    "    def __init__(self, account_number, balance=0):\n",
    "        self.__account_number = account_number\n",
    "        self.__balance = balance\n",
    "        \n",
    "    \n",
    "    @property\n",
    "    def balance(self):\n",
    "        return self.__balance\n",
    "    \n",
    "    \n",
    "    @property\n",
    "    def get_account_number(self):\n",
    "        return self.__account_number\n",
    "    \n",
    "    @balance.setter\n",
    "    def put_money(self, amount):\n",
    "        if(amount>0):\n",
    "            self.__balance +=amount\n",
    "            print(f\"Your current balance is {self.__balance}\")\n",
    "        else:\n",
    "            print(\"You cannot add negative number to the balance\")\n",
    "            \n",
    "    @balance.setter\n",
    "    def withdraw_money(self, amount):\n",
    "        if(amount<0 or amount>self.__balance):\n",
    "            print(f\"Your entered data must be between 0 and {self.__balance}\")\n",
    "        else:\n",
    "            self.__balance -= amount\n",
    "            print(f\"Your current balance is {self.__balance}\")\n",
    "    \n",
    "\n",
    "account = BankAccount(58, 152)\n",
    "print(f\"Account Number: {account.get_account_number}\")\n",
    "print(f\"Initial Balance: {account.balance}\")\n",
    "account.withdraw_money=158\n",
    "account.withdraw_money=72\n",
    "account.put_money=120\n",
    "    "
   ],
   "metadata": {
    "id": "xCvZ7lh8M7YA",
    "ExecuteTime": {
     "end_time": "2024-03-03T21:40:18.946745Z",
     "start_time": "2024-03-03T21:40:18.945584Z"
    }
   },
   "execution_count": 33,
   "outputs": [
    {
     "name": "stdout",
     "output_type": "stream",
     "text": [
      "Account Number: 58\n",
      "Initial Balance: 152\n",
      "Your entered data must be between 0 and 152\n",
      "Your current balance is 80\n",
      "Your current balance is 200\n"
     ]
    }
   ]
  },
  {
   "cell_type": "markdown",
   "source": [
    "9. (11б). Створіть клас Library, який містить список об'єктів типу Book. Реалізуйте методи для додавання книги, видалення книги та відображення списку книг."
   ],
   "metadata": {
    "id": "tIzL2SJTM8ft"
   }
  },
  {
   "cell_type": "code",
   "source": [
    "class Book:\n",
    "    def __init__(self, title, author, creating_year=2024):\n",
    "        self.title = title\n",
    "        self.author = author\n",
    "        self.creating_year = creating_year\n",
    "    \n",
    "    \n",
    "    def print_book(self):\n",
    "        return f'Book with name \"{self.title}\" and author: \"{self.author}\" from year {self.creating_year}'\n",
    "class Library:\n",
    "    def __init__(self):\n",
    "        self.__books = []\n",
    "    \n",
    "    \n",
    "    def add_book(self, book):\n",
    "        if(isinstance(book, Book)):\n",
    "            self.__books.append(book)\n",
    "            print(f\"Added {book.print_book()}\")\n",
    "        else:\n",
    "            print(f\"Invalid argument. It must have type Book!\")\n",
    "    \n",
    "    def remove_book(self, title):\n",
    "        for item in self.__books:\n",
    "            if item.title == title:\n",
    "                self.__books.remove(item)\n",
    "                print(f\"Removed {item.print_book()}\")\n",
    "                return \n",
    "        print(f'There is no book with title \"{title}\"')\n",
    "    \n",
    "    \n",
    "    def print_all_books(self):\n",
    "        if self.__books:\n",
    "            print(f\"There is a {len(self.__books)} books\")\n",
    "            for book in self.__books:\n",
    "                print(book.print_book())\n",
    "        else:\n",
    "            \"There is a empty library\"\n",
    "            \n",
    "\n",
    "book1=Book(\"Тореадори з Васюківки\", \"Всеволод Нестайко\", 2004)\n",
    "book2=Book(\"C++ Primer Plus\", \"Stephen Prata\", 2022)\n",
    "book3=Book(\"Велич і ницість\", \"Ерік Ларсон\")\n",
    "book4=Book(\"Троща\", \"Василь Шкляр\")\n",
    "\n",
    "library = Library()\n",
    "library.add_book(book1)\n",
    "library.add_book(book2)\n",
    "library.add_book(book3)\n",
    "library.add_book(book4)\n",
    "print()\n",
    "library.remove_book(\"hahaha\")\n",
    "library.remove_book(\"Велич і ницість\")\n",
    "print()\n",
    "library.print_all_books()\n",
    "            \n",
    "    "
   ],
   "metadata": {
    "id": "HWxfJKLtNAUZ",
    "ExecuteTime": {
     "end_time": "2024-03-03T22:10:44.069784Z",
     "start_time": "2024-03-03T22:10:44.065573Z"
    }
   },
   "execution_count": 40,
   "outputs": [
    {
     "name": "stdout",
     "output_type": "stream",
     "text": [
      "Added Book with name \"Тореадори з Васюківки\" and author: \"Всеволод Нестайко\" from year 2004\n",
      "Added Book with name \"C++ Primer Plus\" and author: \"Stephen Prata\" from year 2022\n",
      "Added Book with name \"Велич і ницість\" and author: \"Ерік Ларсон\" from year 2024\n",
      "Added Book with name \"Троща\" and author: \"Василь Шкляр\" from year 2024\n",
      "\n",
      "There is no book with title \"hahaha\"\n",
      "Removed Book with name \"Велич і ницість\" and author: \"Ерік Ларсон\" from year 2024\n",
      "There is a 3 books\n",
      "Book with name \"Тореадори з Васюківки\" and author: \"Всеволод Нестайко\" from year 2004\n",
      "Book with name \"C++ Primer Plus\" and author: \"Stephen Prata\" from year 2022\n",
      "Book with name \"Троща\" and author: \"Василь Шкляр\" from year 2024\n"
     ]
    }
   ]
  },
  {
   "cell_type": "markdown",
   "source": [
    "10. (13б). Створіть клас Person з атрибутами name та age. Створіть ще один клас Employee з такими атрибутами, як department та salary. Створіть клас Manager, який успадковує обидва класи Person та Employee. Продемонструйте використання множинної спадковості, створивши обʼєкт класу Manager та отримавши mro для цього класу."
   ],
   "metadata": {
    "id": "lmV8pAwwNIqu"
   }
  },
  {
   "cell_type": "code",
   "source": [
    "class Person:\n",
    "    def __init__(self, name, age):\n",
    "        self.name=name\n",
    "        self.age=age\n",
    "\n",
    "\n",
    "class Employee:\n",
    "    def __init__(self, department, salary):\n",
    "        self.department=department\n",
    "        self.salary=salary\n",
    "\n",
    "\n",
    "class Manager(Person, Employee):\n",
    "    def __init__(self, name, age, department, salary):\n",
    "        Person.__init__(self, name, age)\n",
    "        Employee.__init__(self, department, salary)\n",
    "\n",
    "\n",
    "manager1= Manager(\"Ira\", 18, \"Faculty of Informatics\", 2000)\n",
    "print(Manager.mro())"
   ],
   "metadata": {
    "id": "R49grKlWNPeN",
    "ExecuteTime": {
     "end_time": "2024-03-02T00:05:11.746083Z",
     "start_time": "2024-03-02T00:05:11.743770Z"
    }
   },
   "execution_count": 21,
   "outputs": [
    {
     "name": "stdout",
     "output_type": "stream",
     "text": [
      "[<class '__main__.Manager'>, <class '__main__.Person'>, <class '__main__.Employee'>, <class 'object'>]\n"
     ]
    }
   ]
  },
  {
   "cell_type": "markdown",
   "source": [
    "# II. Iterator"
   ],
   "metadata": {
    "id": "dIJyUiNBFG8G"
   }
  },
  {
   "cell_type": "markdown",
   "source": [
    "11. (4б). Визначте рядок(str) з 4ма різними за значенням символами. Створіть ітератор на основі цього рядка. Викличте 5 разів функцію next на ітераторі, 4ри перших з них огорніть у ф-цію print()."
   ],
   "metadata": {
    "id": "13vsm0NyKIzL"
   }
  },
  {
   "cell_type": "code",
   "source": [
    "str_example=\"irka\"\n",
    "str_iterator=iter(str_example)\n",
    "print(next(str_iterator))\n",
    "print(next(str_iterator))\n",
    "print(next(str_iterator))\n",
    "print(next(str_iterator))\n",
    "next(str_iterator)"
   ],
   "metadata": {
    "id": "81ntabAkKuz-",
    "ExecuteTime": {
     "end_time": "2024-03-03T22:24:27.754165Z",
     "start_time": "2024-03-03T22:24:27.710Z"
    }
   },
   "execution_count": 42,
   "outputs": [
    {
     "name": "stdout",
     "output_type": "stream",
     "text": [
      "i\n",
      "r\n",
      "k\n",
      "a\n"
     ]
    },
    {
     "ename": "StopIteration",
     "evalue": "",
     "output_type": "error",
     "traceback": [
      "\u001B[0;31m---------------------------------------------------------------------------\u001B[0m",
      "\u001B[0;31mStopIteration\u001B[0m                             Traceback (most recent call last)",
      "Cell \u001B[0;32mIn[42], line 7\u001B[0m\n\u001B[1;32m      5\u001B[0m \u001B[38;5;28mprint\u001B[39m(\u001B[38;5;28mnext\u001B[39m(str_iterator))\n\u001B[1;32m      6\u001B[0m \u001B[38;5;28mprint\u001B[39m(\u001B[38;5;28mnext\u001B[39m(str_iterator))\n\u001B[0;32m----> 7\u001B[0m \u001B[38;5;28;43mnext\u001B[39;49m\u001B[43m(\u001B[49m\u001B[43mstr_iterator\u001B[49m\u001B[43m)\u001B[49m\n",
      "\u001B[0;31mStopIteration\u001B[0m: "
     ]
    }
   ]
  },
  {
   "cell_type": "markdown",
   "source": [
    "А що якщо викликати цю ж функцію на рядку?"
   ],
   "metadata": {
    "id": "aekWHGXOLRsO"
   }
  },
  {
   "cell_type": "code",
   "source": [
    "next(str_example)"
   ],
   "metadata": {
    "id": "mxATGsErLV1i",
    "ExecuteTime": {
     "end_time": "2024-03-03T22:25:07.992364Z",
     "start_time": "2024-03-03T22:25:07.988993Z"
    }
   },
   "execution_count": 43,
   "outputs": [
    {
     "ename": "TypeError",
     "evalue": "'str' object is not an iterator",
     "output_type": "error",
     "traceback": [
      "\u001B[0;31m---------------------------------------------------------------------------\u001B[0m",
      "\u001B[0;31mTypeError\u001B[0m                                 Traceback (most recent call last)",
      "Cell \u001B[0;32mIn[43], line 1\u001B[0m\n\u001B[0;32m----> 1\u001B[0m \u001B[38;5;28;43mnext\u001B[39;49m\u001B[43m(\u001B[49m\u001B[43mstr_example\u001B[49m\u001B[43m)\u001B[49m\n",
      "\u001B[0;31mTypeError\u001B[0m: 'str' object is not an iterator"
     ]
    }
   ]
  },
  {
   "cell_type": "markdown",
   "source": [
    " 12. (5б). Опишіть своїми словами в одному реченні, як ви розумієте різницю між ітерабельними обʼєктами та ітераторами (можна на прикладі)."
   ],
   "metadata": {
    "id": "XwtMEopwJ4pH"
   }
  },
  {
   "cell_type": "markdown",
   "source": [
    "На мою думку, різниця полягає в тому, що ітерабельні обʼєкти це ті, на яких ми можемо викликати ітератор. Тобто це обʼєкт, який складається з якихось елементів, які ми можемо, умовно, перелічити і пропустити через них ітератор, а сам ітератор це вказівник, який в певний момент вказує на якийсь елемент обʼєкта, яким проходиться, і в ітераторі визначено як перейти до наступного компонента обʼєкта, та логіку зупинки ітератора, коли він пройшовся по всіх елементах ітерабельного обʼєкта"
   ],
   "metadata": {
    "id": "-sHrODc3KFn8"
   }
  },
  {
   "cell_type": "markdown",
   "source": [
    "13. (11б). Створіть клас, що має визначений Iterator Protocol та при кожному виклику next повертає літери англійської абетки, поки вони не вичерпаються."
   ],
   "metadata": {
    "id": "E9qJWmNbK8Gl"
   }
  },
  {
   "cell_type": "code",
   "source": [
    "class Alphabet:\n",
    "    def __init__(self):\n",
    "        self.cur_char=ord('A')\n",
    "    \n",
    "    \n",
    "    def __iter__(self):\n",
    "        return self\n",
    "    \n",
    "    \n",
    "    def __next__(self):\n",
    "        if(self.cur_char>ord('Z')):\n",
    "           raise StopIteration\n",
    "        else:\n",
    "            temp_char=self.cur_char\n",
    "            self.cur_char+=1\n",
    "            return chr(temp_char)\n",
    "\n",
    "alphabet=Alphabet()\n",
    "for char in alphabet:\n",
    "    print(char)"
   ],
   "metadata": {
    "id": "cqx-g_RsLo6I",
    "ExecuteTime": {
     "end_time": "2024-03-03T22:39:13.792917Z",
     "start_time": "2024-03-03T22:39:13.782185Z"
    }
   },
   "execution_count": 46,
   "outputs": [
    {
     "name": "stdout",
     "output_type": "stream",
     "text": [
      "A\n",
      "B\n",
      "C\n",
      "D\n",
      "E\n",
      "F\n",
      "G\n",
      "H\n",
      "I\n",
      "J\n",
      "K\n",
      "L\n",
      "M\n",
      "N\n",
      "O\n",
      "P\n",
      "Q\n",
      "R\n",
      "S\n",
      "T\n",
      "U\n",
      "V\n",
      "W\n",
      "X\n",
      "Y\n",
      "Z\n"
     ]
    }
   ]
  },
  {
   "cell_type": "markdown",
   "source": [
    "# Вітаю! Ви велика(ий) молодець, що впоралась(вся). Похваліть себе та побалуйте чимось приємним. Я Вами пишаюся."
   ],
   "metadata": {
    "id": "Z3E3S_s1Fv7-"
   }
  }
 ]
}
